{
  "nbformat": 4,
  "nbformat_minor": 0,
  "metadata": {
    "colab": {
      "provenance": [],
      "authorship_tag": "ABX9TyNz8aQ10xnk4qmBoj5JlBaC",
      "include_colab_link": true
    },
    "kernelspec": {
      "name": "python3",
      "display_name": "Python 3"
    },
    "language_info": {
      "name": "python"
    }
  },
  "cells": [
    {
      "cell_type": "markdown",
      "metadata": {
        "id": "view-in-github",
        "colab_type": "text"
      },
      "source": [
        "<a href=\"https://colab.research.google.com/github/liddlecody/ds2002poplab/blob/main/celebPlanes.ipynb\" target=\"_parent\"><img src=\"https://colab.research.google.com/assets/colab-badge.svg\" alt=\"Open In Colab\"/></a>"
      ]
    },
    {
      "cell_type": "markdown",
      "source": [
        "## Where is Tom's Plane?"
      ],
      "metadata": {
        "id": "qXl9qnpazHJl"
      }
    },
    {
      "cell_type": "code",
      "execution_count": 2,
      "metadata": {
        "colab": {
          "base_uri": "https://localhost:8080/"
        },
        "id": "1FTkH3kLzDfh",
        "outputId": "debf3d98-5295-4fc1-d1c2-ff69f2b77190"
      },
      "outputs": [
        {
          "output_type": "stream",
          "name": "stdout",
          "text": [
            "Requirement already satisfied: pyflightdata in /usr/local/lib/python3.11/dist-packages (0.8.6.2)\n",
            "Requirement already satisfied: lxml in /usr/local/lib/python3.11/dist-packages (from pyflightdata) (5.3.1)\n",
            "Requirement already satisfied: requests in /usr/local/lib/python3.11/dist-packages (from pyflightdata) (2.32.3)\n",
            "Requirement already satisfied: beautifulsoup4 in /usr/local/lib/python3.11/dist-packages (from pyflightdata) (4.13.3)\n",
            "Requirement already satisfied: jsonpath-rw in /usr/local/lib/python3.11/dist-packages (from pyflightdata) (1.4.0)\n",
            "Requirement already satisfied: metar in /usr/local/lib/python3.11/dist-packages (from pyflightdata) (1.11.0)\n",
            "Requirement already satisfied: html5lib in /usr/local/lib/python3.11/dist-packages (from pyflightdata) (1.1)\n",
            "Requirement already satisfied: soupsieve>1.2 in /usr/local/lib/python3.11/dist-packages (from beautifulsoup4->pyflightdata) (2.6)\n",
            "Requirement already satisfied: typing-extensions>=4.0.0 in /usr/local/lib/python3.11/dist-packages (from beautifulsoup4->pyflightdata) (4.12.2)\n",
            "Requirement already satisfied: six>=1.9 in /usr/local/lib/python3.11/dist-packages (from html5lib->pyflightdata) (1.17.0)\n",
            "Requirement already satisfied: webencodings in /usr/local/lib/python3.11/dist-packages (from html5lib->pyflightdata) (0.5.1)\n",
            "Requirement already satisfied: ply in /usr/local/lib/python3.11/dist-packages (from jsonpath-rw->pyflightdata) (3.11)\n",
            "Requirement already satisfied: decorator in /usr/local/lib/python3.11/dist-packages (from jsonpath-rw->pyflightdata) (4.4.2)\n",
            "Requirement already satisfied: charset-normalizer<4,>=2 in /usr/local/lib/python3.11/dist-packages (from requests->pyflightdata) (3.4.1)\n",
            "Requirement already satisfied: idna<4,>=2.5 in /usr/local/lib/python3.11/dist-packages (from requests->pyflightdata) (3.10)\n",
            "Requirement already satisfied: urllib3<3,>=1.21.1 in /usr/local/lib/python3.11/dist-packages (from requests->pyflightdata) (2.3.0)\n",
            "Requirement already satisfied: certifi>=2017.4.17 in /usr/local/lib/python3.11/dist-packages (from requests->pyflightdata) (2025.1.31)\n"
          ]
        }
      ],
      "source": [
        "!pip install pyflightdata"
      ]
    },
    {
      "cell_type": "code",
      "source": [
        "from pyflightdata import FlightData\n",
        "import time\n",
        "\n",
        "def format_epoch(timestamp_str):\n",
        "    \"\"\"\n",
        "    Convert an epoch timestamp (as string) to a readable date/time format.\n",
        "    If conversion fails, return the original value.\n",
        "    \"\"\"\n",
        "    try:\n",
        "        ts = int(timestamp_str)\n",
        "        return time.strftime('%Y-%m-%d %H:%M:%S', time.gmtime(ts))\n",
        "    except (TypeError, ValueError):\n",
        "        return timestamp_str or \"N/A\"\n",
        "\n",
        "\n",
        "def print_flight_info(flight):\n",
        "    \"\"\"\n",
        "    Extract and print key details from a single flight record.\n",
        "    \"\"\"\n",
        "    airline = flight.get('airline', {}).get('name', 'Unknown Airline')\n",
        "    callsign = flight.get('identification', {}).get('callsign', 'N/A')\n",
        "    flight_number = flight.get('identification', {}).get('number', {}).get('default', 'N/A')\n",
        "\n",
        "    origin = flight.get('airport', {}).get('origin', {})\n",
        "    origin_name = origin.get('name', 'Unknown Origin')\n",
        "    origin_code = origin.get('code', {}).get('iata', 'N/A')\n",
        "\n",
        "    destination = flight.get('airport', {}).get('destination', {})\n",
        "    destination_name = destination.get('name', 'Unknown Destination')\n",
        "    destination_code = destination.get('code', {}).get('iata', 'N/A')\n",
        "\n",
        "    time_info = flight.get('time', {})\n",
        "    scheduled_dep = time_info.get('scheduled', {}).get('departure')\n",
        "    scheduled_arr = time_info.get('scheduled', {}).get('arrival')\n",
        "    real_dep = time_info.get('real', {}).get('departure')\n",
        "    real_arr = time_info.get('real', {}).get('arrival')\n",
        "\n",
        "    scheduled_dep = format_epoch(scheduled_dep)\n",
        "    scheduled_arr = format_epoch(scheduled_arr)\n",
        "    real_dep = format_epoch(real_dep)\n",
        "    real_arr = format_epoch(real_arr)\n",
        "\n",
        "    status = flight.get('status', {}).get('text', 'Status Unknown')\n",
        "\n",
        "    print(f\"Airline:           {airline}\")\n",
        "    print(f\"Callsign:          {callsign} | Flight No.: {flight_number}\")\n",
        "    print(f\"Origin:            {origin_name} ({origin_code})\")\n",
        "    print(f\"Destination:       {destination_name} ({destination_code})\")\n",
        "    print(f\"Scheduled:         Departure: {scheduled_dep} | Arrival: {scheduled_arr}\")\n",
        "    print(f\"Actual:            Departure: {real_dep} | Arrival: {real_arr}\")\n",
        "    print(f\"Status:            {status}\")\n",
        "    print(\"-\" * 60)\n",
        "\n",
        "if __name__ == \"__main__\":\n",
        "    api = FlightData()\n",
        "\n",
        "    tail_number= \"N350XX\"\n",
        "    history = api.get_history_by_tail_number(tail_number)\n",
        "\n",
        "    last_five = history[-5:]\n",
        "\n",
        "    print(\"Last flights for Tom Cruise's plane:\\n\")\n",
        "    for flight in last_five:\n",
        "        print_flight_info(flight)"
      ],
      "metadata": {
        "colab": {
          "base_uri": "https://localhost:8080/"
        },
        "id": "bD6IXpNhLG5H",
        "outputId": "7dd804c9-1962-485b-98c7-6d938e3edca8"
      },
      "execution_count": 40,
      "outputs": [
        {
          "output_type": "stream",
          "name": "stdout",
          "text": [
            "Last flights for Tom Cruise's plane:\n",
            "\n",
            "Airline:           Executive Jet Management\n",
            "Callsign:          EJM350 | Flight No.: EJM350\n",
            "Origin:            Fort Lauderdale Hollywood International Airport (FLL)\n",
            "Destination:       Aspen Pitkin County Airport (ASE)\n",
            "Scheduled:         Departure: 2025-02-26 12:30:00 | Arrival: 2025-02-26 16:42:10\n",
            "Actual:            Departure: 2025-02-26 15:39:03 | Arrival: 2025-02-26 19:43:15\n",
            "Status:            Landed 12:43\n",
            "------------------------------------------------------------\n",
            "Airline:           Executive Jet Management\n",
            "Callsign:          EJM350 | Flight No.: EJM350\n",
            "Origin:            Fort Lauderdale Executive Airport (FXE)\n",
            "Destination:       Fort Lauderdale Hollywood International Airport (FLL)\n",
            "Scheduled:         Departure: 2025-02-24 14:30:00 | Arrival: 2025-02-24 15:54:00\n",
            "Actual:            Departure: 2025-02-24 14:28:10 | Arrival: 2025-02-24 14:43:13\n",
            "Status:            Landed 09:43\n",
            "------------------------------------------------------------\n"
          ]
        }
      ]
    }
  ]
}